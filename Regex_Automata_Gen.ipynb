{
  "cells": [
    {
      "cell_type": "markdown",
      "metadata": {
        "id": "LukWJY_wDBon"
      },
      "source": [
        "# Regular Expression to Automata Generation\n",
        "\n",
        "We will demonstrate how to generate three types of nondeterministic finite automata (NFAs) — **Thompson**, **Glushkov**, and **Antimirov** — from a given regular expression using the `FAdo` library in Python. It also visualizes the resulting automata as image files."
      ],
      "id": "LukWJY_wDBon"
    },
    {
      "cell_type": "code",
      "execution_count": 6,
      "metadata": {
        "id": "ETv6raL9DBor"
      },
      "outputs": [],
      "source": [
        "# Importing Required Libraries\n",
        "from FAdo.reex import *\n",
        "from FAdo.fio import *\n",
        "import FAdo.fa as fa"
      ],
      "id": "ETv6raL9DBor"
    },
    {
      "cell_type": "markdown",
      "metadata": {
        "id": "3vD6Hk1ADBot"
      },
      "source": [
        "## Function to Generate Automata from a Regular Expression\n",
        "This function takes a regular expression string and generates three NFAs:\n",
        "\n",
        "- **Thompson NFA**: Constructed using the standard Thompson's construction.\n",
        "- **Glushkov NFA**: Also known as position automaton.\n",
        "- **Antimirov NFA**: Based on the partial derivatives of the regex."
      ],
      "id": "3vD6Hk1ADBot"
    },
    {
      "cell_type": "code",
      "execution_count": 7,
      "metadata": {
        "id": "vtBG3QgtDBou"
      },
      "outputs": [],
      "source": [
        "def generate_afns(regex_str):\n",
        "    \"\"\"\n",
        "    Generate three NFAs (Thompson, Glushkov, Antimirov) from a given regular expression.\n",
        "\n",
        "    :param regex_str: Regular expression string\n",
        "    :return: Tuple of three automata\n",
        "    \"\"\"\n",
        "    print(f\"\\nProcessing regular expression: {regex_str}\\n\")\n",
        "\n",
        "    regex = str2regexp(regex_str)\n",
        "\n",
        "    # Thompson NFA\n",
        "    afn_thompson = regex.nfaThompson()\n",
        "    print(\"Thompson NFA:\")\n",
        "    print(afn_thompson)\n",
        "\n",
        "    # Glushkov NFA (Position Automaton)\n",
        "    afn_glushkov = regex.nfaGlushkov()\n",
        "    print(\"\\nGlushkov NFA:\")\n",
        "    print(afn_glushkov)\n",
        "\n",
        "    # Antimirov NFA (Partial Derivative)\n",
        "    afn_antimirov = regex.nfaFollow()\n",
        "    print(\"\\nAntimirov NFA:\")\n",
        "    print(afn_antimirov)\n",
        "\n",
        "    return afn_thompson, afn_glushkov, afn_antimirov"
      ],
      "id": "vtBG3QgtDBou"
    },
    {
      "cell_type": "markdown",
      "metadata": {
        "id": "qXP3MMI2DBov"
      },
      "source": [
        "## Function to Visualize and Save Automata\n",
        "This function displays and saves the given automaton as a PNG image."
      ],
      "id": "qXP3MMI2DBov"
    },
    {
      "cell_type": "code",
      "execution_count": 8,
      "metadata": {
        "id": "XD5xZAgoDBox"
      },
      "outputs": [],
      "source": [
        "def visualize_automaton(automaton, filename):\n",
        "    \"\"\"\n",
        "    Visualize an automaton and save it as an image file.\n",
        "\n",
        "    :param automaton: NFA to visualize\n",
        "    :param filename: Output image filename\n",
        "    \"\"\"\n",
        "    try:\n",
        "        automaton.display(filename=filename)\n",
        "        print(f\"Visualization saved to {filename}\")\n",
        "    except Exception as e:\n",
        "        print(f\"Error while visualizing: {e}\")"
      ],
      "id": "XD5xZAgoDBox"
    },
    {
      "cell_type": "markdown",
      "metadata": {
        "id": "1zo9VHIxDBoy"
      },
      "source": [
        "## Main Execution: Regular Expression Samples\n",
        "We now apply the previous functions to a list of regular expressions and generate their corresponding automata."
      ],
      "id": "1zo9VHIxDBoy"
    },
    {
      "cell_type": "code",
      "execution_count": 9,
      "metadata": {
        "colab": {
          "base_uri": "https://localhost:8080/",
          "height": 1000
        },
        "id": "W58HNG5wDBoz",
        "outputId": "22eb5173-9982-41f8-feab-12c7fdd13ce4"
      },
      "outputs": [
        {
          "output_type": "stream",
          "name": "stdout",
          "text": [
            "Generating automata for expression: (a|b)*abb\n",
            "\n",
            "Processing regular expression: (a|b)*abb\n",
            "\n",
            "Thompson NFA:\n",
            "(['(0, (1, 0))', '(0, (1, 1))', '(0, (1, 2))', '(0, (1, 3))', '(0, (1, 4))', '(0, (1, 5))', '(0, (1, 6))', '(0, (1, 7))', '(0, (1, 8))', '(0, (1, 9))', '(0, (1, 10))', '(0, (1, 11))', '(1, 0)', '(1, 1)'], ['b', 'a'], ['(0, (1, 6))'], ['(1, 1)'], \"[((0, (1, 2)), 'a', (0, (1, 3))), ((0, (1, 0)), '@epsilon', (0, (1, 2))), ((0, (1, 0)), '@epsilon', (0, (1, 4))), ((0, (1, 3)), '@epsilon', (0, (1, 1))), ((0, (1, 4)), 'b', (0, (1, 5))), ((0, (1, 5)), '@epsilon', (0, (1, 1))), ((0, (1, 6)), '@epsilon', (0, (1, 0))), ((0, (1, 6)), '@epsilon', (0, (1, 7))), ((0, (1, 7)), '@epsilon', (0, (1, 8))), ((0, (1, 7)), '@epsilon', (0, (1, 6))), ((0, (1, 1)), '@epsilon', (0, (1, 7))), ((0, (1, 8)), 'a', (0, (1, 9))), ((0, (1, 10)), 'b', (0, (1, 11))), ((0, (1, 9)), '@epsilon', (0, (1, 10))), ((1, 0), 'b', (1, 1)), ((0, (1, 11)), '@epsilon', (1, 0))]\")\n",
            "\n",
            "Glushkov NFA:\n",
            "(['Initial', 'a', 'b', '3', '4', '5'], ['b', 'a'], ['Initial'], ['5'], \"[('Initial', 'a', 'a'), ('Initial', 'a', '3'), ('Initial', 'b', 'b'), ('a', 'a', 'a'), ('a', 'a', '3'), ('a', 'b', 'b'), ('b', 'a', 'a'), ('b', 'a', '3'), ('b', 'b', 'b'), ('3', 'b', '4'), ('4', 'b', '5')]\")\n",
            "\n",
            "Antimirov NFA:\n",
            "(['Final', '2', '3', '5'], ['b', 'a'], ['5'], ['Final'], \"[('2', 'b', 'Final'), ('3', 'b', '2'), ('5', 'a', '3'), ('5', 'a', '5'), ('5', 'b', '5')]\")\n"
          ]
        },
        {
          "output_type": "display_data",
          "data": {
            "text/plain": [
              "<IPython.core.display.SVG object>"
            ],
            "image/svg+xml": "<svg xmlns=\"http://www.w3.org/2000/svg\" xmlns:xlink=\"http://www.w3.org/1999/xlink\" width=\"974pt\" height=\"164pt\" viewBox=\"0.00 0.00 973.59 164.00\">\n<g id=\"graph0\" class=\"graph\" transform=\"scale(1 1) rotate(0) translate(4 160)\">\n<title>finite_state_machine</title>\n<polygon fill=\"white\" stroke=\"transparent\" points=\"-4,4 -4,-160 969.59,-160 969.59,4 -4,4\"/>\n<!-- dummy6 -->\n<g id=\"node1\" class=\"node\">\n<title>dummy6</title>\n<ellipse fill=\"black\" stroke=\"black\" cx=\"1.8\" cy=\"-38\" rx=\"1.8\" ry=\"1.8\"/>\n</g>\n<!-- 6 -->\n<g id=\"node2\" class=\"node\">\n<title>6</title>\n<ellipse fill=\"none\" stroke=\"black\" cx=\"58.6\" cy=\"-38\" rx=\"18\" ry=\"18\"/>\n<text text-anchor=\"middle\" x=\"58.6\" y=\"-34.3\" font-family=\"Times,serif\" font-size=\"14.00\">6</text>\n</g>\n<!-- dummy6&#45;&gt;6 -->\n<g id=\"edge1\" class=\"edge\">\n<title>dummy6-&gt;6</title>\n<path fill=\"none\" stroke=\"black\" d=\"M3.75,-38C7.11,-38 18.87,-38 30.55,-38\"/>\n<polygon fill=\"black\" stroke=\"black\" points=\"30.58,-41.5 40.58,-38 30.58,-34.5 30.58,-41.5\"/>\n</g>\n<!-- 0 -->\n<g id=\"node3\" class=\"node\">\n<title>0</title>\n<ellipse fill=\"none\" stroke=\"black\" cx=\"137.6\" cy=\"-84\" rx=\"18\" ry=\"18\"/>\n<text text-anchor=\"middle\" x=\"137.6\" y=\"-80.3\" font-family=\"Times,serif\" font-size=\"14.00\">0</text>\n</g>\n<!-- 6&#45;&gt;0 -->\n<g id=\"edge8\" class=\"edge\">\n<title>6-&gt;0</title>\n<path fill=\"none\" stroke=\"black\" d=\"M74.45,-46.87C85.42,-53.42 100.57,-62.48 113.17,-70.01\"/>\n<polygon fill=\"black\" stroke=\"black\" points=\"111.42,-73.03 121.8,-75.16 115.01,-67.02 111.42,-73.03\"/>\n<text text-anchor=\"middle\" x=\"98.1\" y=\"-65.8\" font-family=\"Times,serif\" font-size=\"14.00\">ε</text>\n</g>\n<!-- 7 -->\n<g id=\"node9\" class=\"node\">\n<title>7</title>\n<ellipse fill=\"none\" stroke=\"black\" cx=\"453.6\" cy=\"-38\" rx=\"18\" ry=\"18\"/>\n<text text-anchor=\"middle\" x=\"453.6\" y=\"-34.3\" font-family=\"Times,serif\" font-size=\"14.00\">7</text>\n</g>\n<!-- 6&#45;&gt;7 -->\n<g id=\"edge9\" class=\"edge\">\n<title>6-&gt;7</title>\n<path fill=\"none\" stroke=\"black\" d=\"M76.73,-38C92.33,-38 116.01,-38 136.6,-38 136.6,-38 136.6,-38 375.6,-38 392.01,-38 410.38,-38 425.06,-38\"/>\n<polygon fill=\"black\" stroke=\"black\" points=\"425.47,-41.5 435.47,-38 425.47,-34.5 425.47,-41.5\"/>\n<text text-anchor=\"middle\" x=\"256.1\" y=\"-41.8\" font-family=\"Times,serif\" font-size=\"14.00\">ε</text>\n</g>\n<!-- 2 -->\n<g id=\"node5\" class=\"node\">\n<title>2</title>\n<ellipse fill=\"none\" stroke=\"black\" cx=\"216.6\" cy=\"-138\" rx=\"18\" ry=\"18\"/>\n<text text-anchor=\"middle\" x=\"216.6\" y=\"-134.3\" font-family=\"Times,serif\" font-size=\"14.00\">2</text>\n</g>\n<!-- 0&#45;&gt;2 -->\n<g id=\"edge3\" class=\"edge\">\n<title>0-&gt;2</title>\n<path fill=\"none\" stroke=\"black\" d=\"M152.72,-93.9C163.94,-101.77 179.85,-112.93 192.86,-122.05\"/>\n<polygon fill=\"black\" stroke=\"black\" points=\"191.11,-125.1 201.31,-127.98 195.13,-119.37 191.11,-125.1\"/>\n<text text-anchor=\"middle\" x=\"177.1\" y=\"-115.8\" font-family=\"Times,serif\" font-size=\"14.00\">ε</text>\n</g>\n<!-- 4 -->\n<g id=\"node7\" class=\"node\">\n<title>4</title>\n<ellipse fill=\"none\" stroke=\"black\" cx=\"216.6\" cy=\"-84\" rx=\"18\" ry=\"18\"/>\n<text text-anchor=\"middle\" x=\"216.6\" y=\"-80.3\" font-family=\"Times,serif\" font-size=\"14.00\">4</text>\n</g>\n<!-- 0&#45;&gt;4 -->\n<g id=\"edge4\" class=\"edge\">\n<title>0-&gt;4</title>\n<path fill=\"none\" stroke=\"black\" d=\"M155.69,-84C165.26,-84 177.42,-84 188.28,-84\"/>\n<polygon fill=\"black\" stroke=\"black\" points=\"188.56,-87.5 198.56,-84 188.56,-80.5 188.56,-87.5\"/>\n<text text-anchor=\"middle\" x=\"177.1\" y=\"-87.8\" font-family=\"Times,serif\" font-size=\"14.00\">ε</text>\n</g>\n<!-- 1 -->\n<g id=\"node4\" class=\"node\">\n<title>1</title>\n<ellipse fill=\"none\" stroke=\"black\" cx=\"374.6\" cy=\"-84\" rx=\"18\" ry=\"18\"/>\n<text text-anchor=\"middle\" x=\"374.6\" y=\"-80.3\" font-family=\"Times,serif\" font-size=\"14.00\">1</text>\n</g>\n<!-- 1&#45;&gt;7 -->\n<g id=\"edge12\" class=\"edge\">\n<title>1-&gt;7</title>\n<path fill=\"none\" stroke=\"black\" d=\"M390.45,-75.13C401.42,-68.58 416.57,-59.52 429.17,-51.99\"/>\n<polygon fill=\"black\" stroke=\"black\" points=\"431.01,-54.98 437.8,-46.84 427.42,-48.97 431.01,-54.98\"/>\n<text text-anchor=\"middle\" x=\"414.1\" y=\"-65.8\" font-family=\"Times,serif\" font-size=\"14.00\">ε</text>\n</g>\n<!-- 3 -->\n<g id=\"node6\" class=\"node\">\n<title>3</title>\n<ellipse fill=\"none\" stroke=\"black\" cx=\"295.6\" cy=\"-138\" rx=\"18\" ry=\"18\"/>\n<text text-anchor=\"middle\" x=\"295.6\" y=\"-134.3\" font-family=\"Times,serif\" font-size=\"14.00\">3</text>\n</g>\n<!-- 2&#45;&gt;3 -->\n<g id=\"edge2\" class=\"edge\">\n<title>2-&gt;3</title>\n<path fill=\"none\" stroke=\"black\" d=\"M234.69,-138C244.26,-138 256.42,-138 267.28,-138\"/>\n<polygon fill=\"black\" stroke=\"black\" points=\"267.56,-141.5 277.56,-138 267.56,-134.5 267.56,-141.5\"/>\n<text text-anchor=\"middle\" x=\"256.1\" y=\"-141.8\" font-family=\"Times,serif\" font-size=\"14.00\">a</text>\n</g>\n<!-- 3&#45;&gt;1 -->\n<g id=\"edge5\" class=\"edge\">\n<title>3-&gt;1</title>\n<path fill=\"none\" stroke=\"black\" d=\"M310.72,-128.1C321.94,-120.23 337.85,-109.07 350.86,-99.95\"/>\n<polygon fill=\"black\" stroke=\"black\" points=\"353.13,-102.63 359.31,-94.02 349.11,-96.9 353.13,-102.63\"/>\n<text text-anchor=\"middle\" x=\"335.1\" y=\"-115.8\" font-family=\"Times,serif\" font-size=\"14.00\">ε</text>\n</g>\n<!-- 5 -->\n<g id=\"node8\" class=\"node\">\n<title>5</title>\n<ellipse fill=\"none\" stroke=\"black\" cx=\"295.6\" cy=\"-84\" rx=\"18\" ry=\"18\"/>\n<text text-anchor=\"middle\" x=\"295.6\" y=\"-80.3\" font-family=\"Times,serif\" font-size=\"14.00\">5</text>\n</g>\n<!-- 4&#45;&gt;5 -->\n<g id=\"edge6\" class=\"edge\">\n<title>4-&gt;5</title>\n<path fill=\"none\" stroke=\"black\" d=\"M234.69,-84C244.26,-84 256.42,-84 267.28,-84\"/>\n<polygon fill=\"black\" stroke=\"black\" points=\"267.56,-87.5 277.56,-84 267.56,-80.5 267.56,-87.5\"/>\n<text text-anchor=\"middle\" x=\"256.1\" y=\"-87.8\" font-family=\"Times,serif\" font-size=\"14.00\">b</text>\n</g>\n<!-- 5&#45;&gt;1 -->\n<g id=\"edge7\" class=\"edge\">\n<title>5-&gt;1</title>\n<path fill=\"none\" stroke=\"black\" d=\"M313.69,-84C323.26,-84 335.42,-84 346.28,-84\"/>\n<polygon fill=\"black\" stroke=\"black\" points=\"346.56,-87.5 356.56,-84 346.56,-80.5 346.56,-87.5\"/>\n<text text-anchor=\"middle\" x=\"335.1\" y=\"-87.8\" font-family=\"Times,serif\" font-size=\"14.00\">ε</text>\n</g>\n<!-- 7&#45;&gt;6 -->\n<g id=\"edge11\" class=\"edge\">\n<title>7-&gt;6</title>\n<path fill=\"none\" stroke=\"black\" d=\"M439.39,-26.8C424.77,-15.6 400.05,0 375.6,0 136.6,0 136.6,0 136.6,0 116.35,0 95.92,-10.7 81.19,-20.74\"/>\n<polygon fill=\"black\" stroke=\"black\" points=\"78.86,-18.1 72.81,-26.8 82.97,-23.77 78.86,-18.1\"/>\n<text text-anchor=\"middle\" x=\"256.1\" y=\"-3.8\" font-family=\"Times,serif\" font-size=\"14.00\">ε</text>\n</g>\n<!-- 8 -->\n<g id=\"node10\" class=\"node\">\n<title>8</title>\n<ellipse fill=\"none\" stroke=\"black\" cx=\"532.6\" cy=\"-38\" rx=\"18\" ry=\"18\"/>\n<text text-anchor=\"middle\" x=\"532.6\" y=\"-34.3\" font-family=\"Times,serif\" font-size=\"14.00\">8</text>\n</g>\n<!-- 7&#45;&gt;8 -->\n<g id=\"edge10\" class=\"edge\">\n<title>7-&gt;8</title>\n<path fill=\"none\" stroke=\"black\" d=\"M471.69,-38C481.26,-38 493.42,-38 504.28,-38\"/>\n<polygon fill=\"black\" stroke=\"black\" points=\"504.56,-41.5 514.56,-38 504.56,-34.5 504.56,-41.5\"/>\n<text text-anchor=\"middle\" x=\"493.1\" y=\"-41.8\" font-family=\"Times,serif\" font-size=\"14.00\">ε</text>\n</g>\n<!-- 9 -->\n<g id=\"node11\" class=\"node\">\n<title>9</title>\n<ellipse fill=\"none\" stroke=\"black\" cx=\"611.6\" cy=\"-38\" rx=\"18\" ry=\"18\"/>\n<text text-anchor=\"middle\" x=\"611.6\" y=\"-34.3\" font-family=\"Times,serif\" font-size=\"14.00\">9</text>\n</g>\n<!-- 8&#45;&gt;9 -->\n<g id=\"edge13\" class=\"edge\">\n<title>8-&gt;9</title>\n<path fill=\"none\" stroke=\"black\" d=\"M550.69,-38C560.26,-38 572.42,-38 583.28,-38\"/>\n<polygon fill=\"black\" stroke=\"black\" points=\"583.56,-41.5 593.56,-38 583.56,-34.5 583.56,-41.5\"/>\n<text text-anchor=\"middle\" x=\"572.1\" y=\"-41.8\" font-family=\"Times,serif\" font-size=\"14.00\">a</text>\n</g>\n<!-- 10 -->\n<g id=\"node12\" class=\"node\">\n<title>10</title>\n<ellipse fill=\"none\" stroke=\"black\" cx=\"692.1\" cy=\"-38\" rx=\"19.5\" ry=\"19.5\"/>\n<text text-anchor=\"middle\" x=\"692.1\" y=\"-34.3\" font-family=\"Times,serif\" font-size=\"14.00\">10</text>\n</g>\n<!-- 9&#45;&gt;10 -->\n<g id=\"edge15\" class=\"edge\">\n<title>9-&gt;10</title>\n<path fill=\"none\" stroke=\"black\" d=\"M629.63,-38C639.2,-38 651.4,-38 662.4,-38\"/>\n<polygon fill=\"black\" stroke=\"black\" points=\"662.45,-41.5 672.45,-38 662.45,-34.5 662.45,-41.5\"/>\n<text text-anchor=\"middle\" x=\"651.1\" y=\"-41.8\" font-family=\"Times,serif\" font-size=\"14.00\">ε</text>\n</g>\n<!-- 11 -->\n<g id=\"node13\" class=\"node\">\n<title>11</title>\n<ellipse fill=\"none\" stroke=\"black\" cx=\"774.09\" cy=\"-38\" rx=\"19.5\" ry=\"19.5\"/>\n<text text-anchor=\"middle\" x=\"774.09\" y=\"-34.3\" font-family=\"Times,serif\" font-size=\"14.00\">11</text>\n</g>\n<!-- 10&#45;&gt;11 -->\n<g id=\"edge14\" class=\"edge\">\n<title>10-&gt;11</title>\n<path fill=\"none\" stroke=\"black\" d=\"M711.65,-38C721.28,-38 733.25,-38 744.07,-38\"/>\n<polygon fill=\"black\" stroke=\"black\" points=\"744.36,-41.5 754.36,-38 744.36,-34.5 744.36,-41.5\"/>\n<text text-anchor=\"middle\" x=\"733.1\" y=\"-41.8\" font-family=\"Times,serif\" font-size=\"14.00\">b</text>\n</g>\n<!-- 12 -->\n<g id=\"node14\" class=\"node\">\n<title>12</title>\n<ellipse fill=\"none\" stroke=\"black\" cx=\"856.09\" cy=\"-38\" rx=\"19.5\" ry=\"19.5\"/>\n<text text-anchor=\"middle\" x=\"856.09\" y=\"-34.3\" font-family=\"Times,serif\" font-size=\"14.00\">12</text>\n</g>\n<!-- 11&#45;&gt;12 -->\n<g id=\"edge17\" class=\"edge\">\n<title>11-&gt;12</title>\n<path fill=\"none\" stroke=\"black\" d=\"M793.65,-38C803.27,-38 815.25,-38 826.06,-38\"/>\n<polygon fill=\"black\" stroke=\"black\" points=\"826.36,-41.5 836.36,-38 826.36,-34.5 826.36,-41.5\"/>\n<text text-anchor=\"middle\" x=\"815.09\" y=\"-41.8\" font-family=\"Times,serif\" font-size=\"14.00\">ε</text>\n</g>\n<!-- 13 -->\n<g id=\"node15\" class=\"node\">\n<title>13</title>\n<ellipse fill=\"none\" stroke=\"black\" cx=\"942.09\" cy=\"-38\" rx=\"19.5\" ry=\"19.5\"/>\n<ellipse fill=\"none\" stroke=\"black\" cx=\"942.09\" cy=\"-38\" rx=\"23.5\" ry=\"23.5\"/>\n<text text-anchor=\"middle\" x=\"942.09\" y=\"-34.3\" font-family=\"Times,serif\" font-size=\"14.00\">13</text>\n</g>\n<!-- 12&#45;&gt;13 -->\n<g id=\"edge16\" class=\"edge\">\n<title>12-&gt;13</title>\n<path fill=\"none\" stroke=\"black\" d=\"M875.73,-38C885.26,-38 897.13,-38 908.13,-38\"/>\n<polygon fill=\"black\" stroke=\"black\" points=\"908.31,-41.5 918.31,-38 908.31,-34.5 908.31,-41.5\"/>\n<text text-anchor=\"middle\" x=\"897.09\" y=\"-41.8\" font-family=\"Times,serif\" font-size=\"14.00\">b</text>\n</g>\n</g>\n</svg>"
          },
          "metadata": {}
        },
        {
          "output_type": "stream",
          "name": "stdout",
          "text": [
            "Visualization saved to regex_1_thompson.png\n"
          ]
        },
        {
          "output_type": "display_data",
          "data": {
            "text/plain": [
              "<IPython.core.display.SVG object>"
            ],
            "image/svg+xml": "<svg xmlns=\"http://www.w3.org/2000/svg\" xmlns:xlink=\"http://www.w3.org/1999/xlink\" width=\"488pt\" height=\"138pt\" viewBox=\"0.00 0.00 487.60 138.23\">\n<g id=\"graph0\" class=\"graph\" transform=\"scale(1 1) rotate(0) translate(4 134.23)\">\n<title>finite_state_machine</title>\n<polygon fill=\"white\" stroke=\"transparent\" points=\"-4,4 -4,-134.23 483.6,-134.23 483.6,4 -4,4\"/>\n<!-- dummy0 -->\n<g id=\"node1\" class=\"node\">\n<title>dummy0</title>\n<ellipse fill=\"black\" stroke=\"black\" cx=\"1.8\" cy=\"-18.23\" rx=\"1.8\" ry=\"1.8\"/>\n</g>\n<!-- 0 -->\n<g id=\"node2\" class=\"node\">\n<title>0</title>\n<ellipse fill=\"none\" stroke=\"black\" cx=\"58.6\" cy=\"-18.23\" rx=\"18\" ry=\"18\"/>\n<text text-anchor=\"middle\" x=\"58.6\" y=\"-14.53\" font-family=\"Times,serif\" font-size=\"14.00\">0</text>\n</g>\n<!-- dummy0&#45;&gt;0 -->\n<g id=\"edge1\" class=\"edge\">\n<title>dummy0-&gt;0</title>\n<path fill=\"none\" stroke=\"black\" d=\"M3.75,-18.23C7.11,-18.23 18.87,-18.23 30.55,-18.23\"/>\n<polygon fill=\"black\" stroke=\"black\" points=\"30.58,-21.73 40.58,-18.23 30.58,-14.73 30.58,-21.73\"/>\n</g>\n<!-- 1 -->\n<g id=\"node3\" class=\"node\">\n<title>1</title>\n<ellipse fill=\"none\" stroke=\"black\" cx=\"137.6\" cy=\"-79.23\" rx=\"18\" ry=\"18\"/>\n<text text-anchor=\"middle\" x=\"137.6\" y=\"-75.53\" font-family=\"Times,serif\" font-size=\"14.00\">1</text>\n</g>\n<!-- 0&#45;&gt;1 -->\n<g id=\"edge2\" class=\"edge\">\n<title>0-&gt;1</title>\n<path fill=\"none\" stroke=\"black\" d=\"M73.37,-29.13C84.86,-38.24 101.46,-51.39 114.77,-61.93\"/>\n<polygon fill=\"black\" stroke=\"black\" points=\"112.94,-64.95 122.95,-68.42 117.29,-59.46 112.94,-64.95\"/>\n<text text-anchor=\"middle\" x=\"98.1\" y=\"-54.03\" font-family=\"Times,serif\" font-size=\"14.00\">a</text>\n</g>\n<!-- 2 -->\n<g id=\"node4\" class=\"node\">\n<title>2</title>\n<ellipse fill=\"none\" stroke=\"black\" cx=\"216.6\" cy=\"-32.23\" rx=\"18\" ry=\"18\"/>\n<text text-anchor=\"middle\" x=\"216.6\" y=\"-28.53\" font-family=\"Times,serif\" font-size=\"14.00\">2</text>\n</g>\n<!-- 0&#45;&gt;2 -->\n<g id=\"edge4\" class=\"edge\">\n<title>0-&gt;2</title>\n<path fill=\"none\" stroke=\"black\" d=\"M76.59,-19.75C103.55,-22.17 156.37,-26.91 188.57,-29.8\"/>\n<polygon fill=\"black\" stroke=\"black\" points=\"188.36,-33.3 198.63,-30.7 188.98,-26.32 188.36,-33.3\"/>\n<text text-anchor=\"middle\" x=\"137.6\" y=\"-30.03\" font-family=\"Times,serif\" font-size=\"14.00\">b</text>\n</g>\n<!-- 3 -->\n<g id=\"node5\" class=\"node\">\n<title>3</title>\n<ellipse fill=\"none\" stroke=\"black\" cx=\"295.6\" cy=\"-32.23\" rx=\"18\" ry=\"18\"/>\n<text text-anchor=\"middle\" x=\"295.6\" y=\"-28.53\" font-family=\"Times,serif\" font-size=\"14.00\">3</text>\n</g>\n<!-- 0&#45;&gt;3 -->\n<g id=\"edge3\" class=\"edge\">\n<title>0-&gt;3</title>\n<path fill=\"none\" stroke=\"black\" d=\"M76.22,-13.89C107.57,-6.4 177.41,7.05 234.6,-5.23 246.91,-7.87 259.75,-13.24 270.37,-18.51\"/>\n<polygon fill=\"black\" stroke=\"black\" points=\"268.95,-21.71 279.43,-23.23 272.18,-15.5 268.95,-21.71\"/>\n<text text-anchor=\"middle\" x=\"177.1\" y=\"-4.03\" font-family=\"Times,serif\" font-size=\"14.00\">a</text>\n</g>\n<!-- 1&#45;&gt;1 -->\n<g id=\"edge5\" class=\"edge\">\n<title>1-&gt;1</title>\n<path fill=\"none\" stroke=\"black\" d=\"M130.87,-96.26C129.49,-106.08 131.74,-115.23 137.6,-115.23 141.26,-115.23 143.52,-111.66 144.35,-106.58\"/>\n<polygon fill=\"black\" stroke=\"black\" points=\"147.85,-106.26 144.33,-96.26 140.85,-106.27 147.85,-106.26\"/>\n<text text-anchor=\"middle\" x=\"137.6\" y=\"-119.03\" font-family=\"Times,serif\" font-size=\"14.00\">a</text>\n</g>\n<!-- 1&#45;&gt;2 -->\n<g id=\"edge7\" class=\"edge\">\n<title>1-&gt;2</title>\n<path fill=\"none\" stroke=\"black\" d=\"M151.75,-68.01C158.12,-62.87 166.01,-56.88 173.6,-52.23 178.89,-48.98 184.79,-45.88 190.46,-43.13\"/>\n<polygon fill=\"black\" stroke=\"black\" points=\"192.03,-46.26 199.63,-38.87 189.08,-39.91 192.03,-46.26\"/>\n<text text-anchor=\"middle\" x=\"177.1\" y=\"-56.03\" font-family=\"Times,serif\" font-size=\"14.00\">b</text>\n</g>\n<!-- 1&#45;&gt;3 -->\n<g id=\"edge6\" class=\"edge\">\n<title>1-&gt;3</title>\n<path fill=\"none\" stroke=\"black\" d=\"M154.53,-86.21C174.12,-93.73 208.03,-103.23 234.6,-92.23 252.75,-84.71 268.27,-68.75 278.97,-55.18\"/>\n<polygon fill=\"black\" stroke=\"black\" points=\"281.8,-57.23 285,-47.13 276.2,-53.04 281.8,-57.23\"/>\n<text text-anchor=\"middle\" x=\"216.6\" y=\"-101.03\" font-family=\"Times,serif\" font-size=\"14.00\">a</text>\n</g>\n<!-- 2&#45;&gt;1 -->\n<g id=\"edge8\" class=\"edge\">\n<title>2-&gt;1</title>\n<path fill=\"none\" stroke=\"black\" d=\"M204.61,-46.24C198.28,-53.44 189.78,-61.82 180.6,-67.23 175.98,-69.94 170.71,-72.08 165.5,-73.74\"/>\n<polygon fill=\"black\" stroke=\"black\" points=\"164.48,-70.39 155.74,-76.39 166.31,-77.15 164.48,-70.39\"/>\n<text text-anchor=\"middle\" x=\"177.1\" y=\"-74.03\" font-family=\"Times,serif\" font-size=\"14.00\">a</text>\n</g>\n<!-- 2&#45;&gt;2 -->\n<g id=\"edge10\" class=\"edge\">\n<title>2-&gt;2</title>\n<path fill=\"none\" stroke=\"black\" d=\"M209.87,-49.26C208.49,-59.08 210.74,-68.23 216.6,-68.23 220.26,-68.23 222.52,-64.66 223.35,-59.58\"/>\n<polygon fill=\"black\" stroke=\"black\" points=\"226.85,-59.26 223.33,-49.26 219.85,-59.27 226.85,-59.26\"/>\n<text text-anchor=\"middle\" x=\"216.6\" y=\"-72.03\" font-family=\"Times,serif\" font-size=\"14.00\">b</text>\n</g>\n<!-- 2&#45;&gt;3 -->\n<g id=\"edge9\" class=\"edge\">\n<title>2-&gt;3</title>\n<path fill=\"none\" stroke=\"black\" d=\"M234.69,-32.23C244.26,-32.23 256.42,-32.23 267.28,-32.23\"/>\n<polygon fill=\"black\" stroke=\"black\" points=\"267.56,-35.73 277.56,-32.23 267.56,-28.73 267.56,-35.73\"/>\n<text text-anchor=\"middle\" x=\"256.1\" y=\"-36.03\" font-family=\"Times,serif\" font-size=\"14.00\">a</text>\n</g>\n<!-- 4 -->\n<g id=\"node6\" class=\"node\">\n<title>4</title>\n<ellipse fill=\"none\" stroke=\"black\" cx=\"374.6\" cy=\"-32.23\" rx=\"18\" ry=\"18\"/>\n<text text-anchor=\"middle\" x=\"374.6\" y=\"-28.53\" font-family=\"Times,serif\" font-size=\"14.00\">4</text>\n</g>\n<!-- 3&#45;&gt;4 -->\n<g id=\"edge11\" class=\"edge\">\n<title>3-&gt;4</title>\n<path fill=\"none\" stroke=\"black\" d=\"M313.69,-32.23C323.26,-32.23 335.42,-32.23 346.28,-32.23\"/>\n<polygon fill=\"black\" stroke=\"black\" points=\"346.56,-35.73 356.56,-32.23 346.56,-28.73 346.56,-35.73\"/>\n<text text-anchor=\"middle\" x=\"335.1\" y=\"-36.03\" font-family=\"Times,serif\" font-size=\"14.00\">b</text>\n</g>\n<!-- 5 -->\n<g id=\"node7\" class=\"node\">\n<title>5</title>\n<ellipse fill=\"none\" stroke=\"black\" cx=\"457.6\" cy=\"-32.23\" rx=\"18\" ry=\"18\"/>\n<ellipse fill=\"none\" stroke=\"black\" cx=\"457.6\" cy=\"-32.23\" rx=\"22\" ry=\"22\"/>\n<text text-anchor=\"middle\" x=\"457.6\" y=\"-28.53\" font-family=\"Times,serif\" font-size=\"14.00\">5</text>\n</g>\n<!-- 4&#45;&gt;5 -->\n<g id=\"edge12\" class=\"edge\">\n<title>4-&gt;5</title>\n<path fill=\"none\" stroke=\"black\" d=\"M392.78,-32.23C402.21,-32.23 414.2,-32.23 425.24,-32.23\"/>\n<polygon fill=\"black\" stroke=\"black\" points=\"425.41,-35.73 435.41,-32.23 425.41,-28.73 425.41,-35.73\"/>\n<text text-anchor=\"middle\" x=\"414.1\" y=\"-36.03\" font-family=\"Times,serif\" font-size=\"14.00\">b</text>\n</g>\n</g>\n</svg>"
          },
          "metadata": {}
        },
        {
          "output_type": "stream",
          "name": "stdout",
          "text": [
            "Visualization saved to regex_1_glushkov.png\n"
          ]
        },
        {
          "output_type": "display_data",
          "data": {
            "text/plain": [
              "<IPython.core.display.SVG object>"
            ],
            "image/svg+xml": "<svg xmlns=\"http://www.w3.org/2000/svg\" xmlns:xlink=\"http://www.w3.org/1999/xlink\" width=\"351pt\" height=\"92pt\" viewBox=\"0.00 0.00 350.79 91.60\">\n<g id=\"graph0\" class=\"graph\" transform=\"scale(1 1) rotate(0) translate(4 87.6)\">\n<title>finite_state_machine</title>\n<polygon fill=\"white\" stroke=\"transparent\" points=\"-4,4 -4,-87.6 346.79,-87.6 346.79,4 -4,4\"/>\n<!-- dummy5 -->\n<g id=\"node1\" class=\"node\">\n<title>dummy5</title>\n<ellipse fill=\"black\" stroke=\"black\" cx=\"1.8\" cy=\"-32.6\" rx=\"1.8\" ry=\"1.8\"/>\n</g>\n<!-- 5 -->\n<g id=\"node2\" class=\"node\">\n<title>5</title>\n<ellipse fill=\"none\" stroke=\"black\" cx=\"58.6\" cy=\"-32.6\" rx=\"18\" ry=\"18\"/>\n<text text-anchor=\"middle\" x=\"58.6\" y=\"-28.9\" font-family=\"Times,serif\" font-size=\"14.00\">5</text>\n</g>\n<!-- dummy5&#45;&gt;5 -->\n<g id=\"edge1\" class=\"edge\">\n<title>dummy5-&gt;5</title>\n<path fill=\"none\" stroke=\"black\" d=\"M3.75,-32.6C7.11,-32.6 18.87,-32.6 30.55,-32.6\"/>\n<polygon fill=\"black\" stroke=\"black\" points=\"30.58,-36.1 40.58,-32.6 30.58,-29.1 30.58,-36.1\"/>\n</g>\n<!-- 5&#45;&gt;5 -->\n<g id=\"edge5\" class=\"edge\">\n<title>5-&gt;5</title>\n<path fill=\"none\" stroke=\"black\" d=\"M52.22,-49.63C50.92,-59.46 53.05,-68.6 58.6,-68.6 62.07,-68.6 64.2,-65.03 65,-59.95\"/>\n<polygon fill=\"black\" stroke=\"black\" points=\"68.5,-59.63 64.98,-49.63 61.5,-59.64 68.5,-59.63\"/>\n<text text-anchor=\"middle\" x=\"58.6\" y=\"-72.4\" font-family=\"Times,serif\" font-size=\"14.00\">a, b</text>\n</g>\n<!-- 3 -->\n<g id=\"node5\" class=\"node\">\n<title>3</title>\n<ellipse fill=\"none\" stroke=\"black\" cx=\"137.6\" cy=\"-32.6\" rx=\"18\" ry=\"18\"/>\n<text text-anchor=\"middle\" x=\"137.6\" y=\"-28.9\" font-family=\"Times,serif\" font-size=\"14.00\">3</text>\n</g>\n<!-- 5&#45;&gt;3 -->\n<g id=\"edge4\" class=\"edge\">\n<title>5-&gt;3</title>\n<path fill=\"none\" stroke=\"black\" d=\"M76.69,-32.6C86.26,-32.6 98.42,-32.6 109.28,-32.6\"/>\n<polygon fill=\"black\" stroke=\"black\" points=\"109.56,-36.1 119.56,-32.6 109.56,-29.1 109.56,-36.1\"/>\n<text text-anchor=\"middle\" x=\"98.1\" y=\"-36.4\" font-family=\"Times,serif\" font-size=\"14.00\">a</text>\n</g>\n<!-- Final -->\n<g id=\"node3\" class=\"node\">\n<title>Final</title>\n<ellipse fill=\"none\" stroke=\"black\" cx=\"310.2\" cy=\"-32.6\" rx=\"28.68\" ry=\"28.68\"/>\n<ellipse fill=\"none\" stroke=\"black\" cx=\"310.2\" cy=\"-32.6\" rx=\"32.7\" ry=\"32.7\"/>\n<text text-anchor=\"middle\" x=\"310.2\" y=\"-28.9\" font-family=\"Times,serif\" font-size=\"14.00\">Final</text>\n</g>\n<!-- 2 -->\n<g id=\"node4\" class=\"node\">\n<title>2</title>\n<ellipse fill=\"none\" stroke=\"black\" cx=\"216.6\" cy=\"-32.6\" rx=\"18\" ry=\"18\"/>\n<text text-anchor=\"middle\" x=\"216.6\" y=\"-28.9\" font-family=\"Times,serif\" font-size=\"14.00\">2</text>\n</g>\n<!-- 2&#45;&gt;Final -->\n<g id=\"edge2\" class=\"edge\">\n<title>2-&gt;Final</title>\n<path fill=\"none\" stroke=\"black\" d=\"M234.83,-32.6C244.03,-32.6 255.8,-32.6 267.25,-32.6\"/>\n<polygon fill=\"black\" stroke=\"black\" points=\"267.59,-36.1 277.59,-32.6 267.59,-29.1 267.59,-36.1\"/>\n<text text-anchor=\"middle\" x=\"256.1\" y=\"-36.4\" font-family=\"Times,serif\" font-size=\"14.00\">b</text>\n</g>\n<!-- 3&#45;&gt;2 -->\n<g id=\"edge3\" class=\"edge\">\n<title>3-&gt;2</title>\n<path fill=\"none\" stroke=\"black\" d=\"M155.69,-32.6C165.26,-32.6 177.42,-32.6 188.28,-32.6\"/>\n<polygon fill=\"black\" stroke=\"black\" points=\"188.56,-36.1 198.56,-32.6 188.56,-29.1 188.56,-36.1\"/>\n<text text-anchor=\"middle\" x=\"177.1\" y=\"-36.4\" font-family=\"Times,serif\" font-size=\"14.00\">b</text>\n</g>\n</g>\n</svg>"
          },
          "metadata": {}
        },
        {
          "output_type": "stream",
          "name": "stdout",
          "text": [
            "Visualization saved to regex_1_antimirov.png\n",
            "\n",
            "---\n",
            "\n",
            "Generating automata for expression: (a*b)*\n",
            "\n",
            "Processing regular expression: (a*b)*\n",
            "\n",
            "Thompson NFA:\n",
            "(['(0, (1, 0))', '(0, (1, 1))', '(0, (1, 2))', '(0, (1, 3))', '(1, 0)', '(1, 1)', '6', '7'], ['b', 'a'], ['6'], ['7'], \"[((0, (1, 0)), 'a', (0, (1, 1))), ((0, (1, 2)), '@epsilon', (0, (1, 0))), ((0, (1, 2)), '@epsilon', (0, (1, 3))), ((0, (1, 3)), '@epsilon', (0, (1, 2))), ((0, (1, 3)), '@epsilon', (1, 0)), ((0, (1, 1)), '@epsilon', (0, (1, 3))), ((1, 0), 'b', (1, 1)), ('6', '@epsilon', (0, (1, 2))), ('6', '@epsilon', '7'), ('7', '@epsilon', '6'), ((1, 1), '@epsilon', '7')]\")\n",
            "\n",
            "Glushkov NFA:\n",
            "(['Initial', 'a', 'b'], ['b', 'a'], ['Initial'], ['Initial', 'b'], \"[('Initial', 'a', 'a'), ('Initial', 'b', 'b'), ('a', 'a', 'a'), ('a', 'b', 'b'), ('b', 'a', 'a'), ('b', 'b', 'b')]\")\n",
            "\n",
            "Antimirov NFA:\n",
            "(['2', '4'], ['b', 'a'], ['2'], ['2'], \"[('2', 'a', '4'), ('2', 'b', '2'), ('4', 'a', '4'), ('4', 'b', '2')]\")\n"
          ]
        },
        {
          "output_type": "display_data",
          "data": {
            "text/plain": [
              "<IPython.core.display.SVG object>"
            ],
            "image/svg+xml": "<svg xmlns=\"http://www.w3.org/2000/svg\" xmlns:xlink=\"http://www.w3.org/1999/xlink\" width=\"646pt\" height=\"186pt\" viewBox=\"0.00 0.00 645.60 186.00\">\n<g id=\"graph0\" class=\"graph\" transform=\"scale(1 1) rotate(0) translate(4 182)\">\n<title>finite_state_machine</title>\n<polygon fill=\"white\" stroke=\"transparent\" points=\"-4,4 -4,-182 641.6,-182 641.6,4 -4,4\"/>\n<!-- dummy6 -->\n<g id=\"node1\" class=\"node\">\n<title>dummy6</title>\n<ellipse fill=\"black\" stroke=\"black\" cx=\"1.8\" cy=\"-38\" rx=\"1.8\" ry=\"1.8\"/>\n</g>\n<!-- 6 -->\n<g id=\"node2\" class=\"node\">\n<title>6</title>\n<ellipse fill=\"none\" stroke=\"black\" cx=\"58.6\" cy=\"-38\" rx=\"18\" ry=\"18\"/>\n<text text-anchor=\"middle\" x=\"58.6\" y=\"-34.3\" font-family=\"Times,serif\" font-size=\"14.00\">6</text>\n</g>\n<!-- dummy6&#45;&gt;6 -->\n<g id=\"edge1\" class=\"edge\">\n<title>dummy6-&gt;6</title>\n<path fill=\"none\" stroke=\"black\" d=\"M3.75,-38C7.11,-38 18.87,-38 30.55,-38\"/>\n<polygon fill=\"black\" stroke=\"black\" points=\"30.58,-41.5 40.58,-38 30.58,-34.5 30.58,-41.5\"/>\n</g>\n<!-- 2 -->\n<g id=\"node5\" class=\"node\">\n<title>2</title>\n<ellipse fill=\"none\" stroke=\"black\" cx=\"137.6\" cy=\"-103\" rx=\"18\" ry=\"18\"/>\n<text text-anchor=\"middle\" x=\"137.6\" y=\"-99.3\" font-family=\"Times,serif\" font-size=\"14.00\">2</text>\n</g>\n<!-- 6&#45;&gt;2 -->\n<g id=\"edge9\" class=\"edge\">\n<title>6-&gt;2</title>\n<path fill=\"none\" stroke=\"black\" d=\"M73.01,-49.32C84.72,-59.2 101.9,-73.71 115.45,-85.15\"/>\n<polygon fill=\"black\" stroke=\"black\" points=\"113.44,-88.03 123.34,-91.81 117.96,-82.68 113.44,-88.03\"/>\n<text text-anchor=\"middle\" x=\"98.1\" y=\"-75.8\" font-family=\"Times,serif\" font-size=\"14.00\">ε</text>\n</g>\n<!-- 7 -->\n<g id=\"node9\" class=\"node\">\n<title>7</title>\n<ellipse fill=\"none\" stroke=\"black\" cx=\"615.6\" cy=\"-38\" rx=\"18\" ry=\"18\"/>\n<ellipse fill=\"none\" stroke=\"black\" cx=\"615.6\" cy=\"-38\" rx=\"22\" ry=\"22\"/>\n<text text-anchor=\"middle\" x=\"615.6\" y=\"-34.3\" font-family=\"Times,serif\" font-size=\"14.00\">7</text>\n</g>\n<!-- 6&#45;&gt;7 -->\n<g id=\"edge10\" class=\"edge\">\n<title>6-&gt;7</title>\n<path fill=\"none\" stroke=\"black\" d=\"M76.73,-38C92.33,-38 116.01,-38 136.6,-38 136.6,-38 136.6,-38 533.6,-38 549.89,-38 568.03,-38 583.01,-38\"/>\n<polygon fill=\"black\" stroke=\"black\" points=\"583.28,-41.5 593.28,-38 583.28,-34.5 583.28,-41.5\"/>\n<text text-anchor=\"middle\" x=\"335.1\" y=\"-41.8\" font-family=\"Times,serif\" font-size=\"14.00\">ε</text>\n</g>\n<!-- 0 -->\n<g id=\"node3\" class=\"node\">\n<title>0</title>\n<ellipse fill=\"none\" stroke=\"black\" cx=\"216.6\" cy=\"-160\" rx=\"18\" ry=\"18\"/>\n<text text-anchor=\"middle\" x=\"216.6\" y=\"-156.3\" font-family=\"Times,serif\" font-size=\"14.00\">0</text>\n</g>\n<!-- 1 -->\n<g id=\"node4\" class=\"node\">\n<title>1</title>\n<ellipse fill=\"none\" stroke=\"black\" cx=\"295.6\" cy=\"-160\" rx=\"18\" ry=\"18\"/>\n<text text-anchor=\"middle\" x=\"295.6\" y=\"-156.3\" font-family=\"Times,serif\" font-size=\"14.00\">1</text>\n</g>\n<!-- 0&#45;&gt;1 -->\n<g id=\"edge2\" class=\"edge\">\n<title>0-&gt;1</title>\n<path fill=\"none\" stroke=\"black\" d=\"M234.69,-160C244.26,-160 256.42,-160 267.28,-160\"/>\n<polygon fill=\"black\" stroke=\"black\" points=\"267.56,-163.5 277.56,-160 267.56,-156.5 267.56,-163.5\"/>\n<text text-anchor=\"middle\" x=\"256.1\" y=\"-163.8\" font-family=\"Times,serif\" font-size=\"14.00\">a</text>\n</g>\n<!-- 3 -->\n<g id=\"node6\" class=\"node\">\n<title>3</title>\n<ellipse fill=\"none\" stroke=\"black\" cx=\"374.6\" cy=\"-113\" rx=\"18\" ry=\"18\"/>\n<text text-anchor=\"middle\" x=\"374.6\" y=\"-109.3\" font-family=\"Times,serif\" font-size=\"14.00\">3</text>\n</g>\n<!-- 1&#45;&gt;3 -->\n<g id=\"edge7\" class=\"edge\">\n<title>1-&gt;3</title>\n<path fill=\"none\" stroke=\"black\" d=\"M311.45,-150.94C322.42,-144.24 337.57,-134.99 350.17,-127.3\"/>\n<polygon fill=\"black\" stroke=\"black\" points=\"352.09,-130.23 358.8,-122.03 348.44,-124.26 352.09,-130.23\"/>\n<text text-anchor=\"middle\" x=\"335.1\" y=\"-140.8\" font-family=\"Times,serif\" font-size=\"14.00\">ε</text>\n</g>\n<!-- 2&#45;&gt;0 -->\n<g id=\"edge3\" class=\"edge\">\n<title>2-&gt;0</title>\n<path fill=\"none\" stroke=\"black\" d=\"M152.72,-113.45C164.12,-121.89 180.36,-133.91 193.48,-143.62\"/>\n<polygon fill=\"black\" stroke=\"black\" points=\"191.45,-146.47 201.57,-149.61 195.61,-140.85 191.45,-146.47\"/>\n<text text-anchor=\"middle\" x=\"177.1\" y=\"-136.8\" font-family=\"Times,serif\" font-size=\"14.00\">ε</text>\n</g>\n<!-- 2&#45;&gt;3 -->\n<g id=\"edge4\" class=\"edge\">\n<title>2-&gt;3</title>\n<path fill=\"none\" stroke=\"black\" d=\"M155.88,-103.74C196.38,-105.46 297.69,-109.77 346.49,-111.85\"/>\n<polygon fill=\"black\" stroke=\"black\" points=\"346.47,-115.35 356.61,-112.28 346.77,-108.36 346.47,-115.35\"/>\n<text text-anchor=\"middle\" x=\"256.1\" y=\"-111.8\" font-family=\"Times,serif\" font-size=\"14.00\">ε</text>\n</g>\n<!-- 3&#45;&gt;2 -->\n<g id=\"edge5\" class=\"edge\">\n<title>3-&gt;2</title>\n<path fill=\"none\" stroke=\"black\" d=\"M357.17,-108.22C335.18,-102.1 294.85,-91.82 259.6,-88 227.15,-84.48 189.9,-90.64 165.4,-96.1\"/>\n<polygon fill=\"black\" stroke=\"black\" points=\"164.35,-92.75 155.42,-98.44 165.95,-99.57 164.35,-92.75\"/>\n<text text-anchor=\"middle\" x=\"256.1\" y=\"-91.8\" font-family=\"Times,serif\" font-size=\"14.00\">ε</text>\n</g>\n<!-- 4 -->\n<g id=\"node7\" class=\"node\">\n<title>4</title>\n<ellipse fill=\"none\" stroke=\"black\" cx=\"453.6\" cy=\"-110\" rx=\"18\" ry=\"18\"/>\n<text text-anchor=\"middle\" x=\"453.6\" y=\"-106.3\" font-family=\"Times,serif\" font-size=\"14.00\">4</text>\n</g>\n<!-- 3&#45;&gt;4 -->\n<g id=\"edge6\" class=\"edge\">\n<title>3-&gt;4</title>\n<path fill=\"none\" stroke=\"black\" d=\"M392.69,-112.33C402.26,-111.96 414.42,-111.49 425.28,-111.06\"/>\n<polygon fill=\"black\" stroke=\"black\" points=\"425.7,-114.55 435.56,-110.66 425.43,-107.56 425.7,-114.55\"/>\n<text text-anchor=\"middle\" x=\"414.1\" y=\"-114.8\" font-family=\"Times,serif\" font-size=\"14.00\">ε</text>\n</g>\n<!-- 5 -->\n<g id=\"node8\" class=\"node\">\n<title>5</title>\n<ellipse fill=\"none\" stroke=\"black\" cx=\"532.6\" cy=\"-99\" rx=\"18\" ry=\"18\"/>\n<text text-anchor=\"middle\" x=\"532.6\" y=\"-95.3\" font-family=\"Times,serif\" font-size=\"14.00\">5</text>\n</g>\n<!-- 4&#45;&gt;5 -->\n<g id=\"edge8\" class=\"edge\">\n<title>4-&gt;5</title>\n<path fill=\"none\" stroke=\"black\" d=\"M471.69,-107.56C481.36,-106.18 493.67,-104.42 504.62,-102.85\"/>\n<polygon fill=\"black\" stroke=\"black\" points=\"505.15,-106.31 514.56,-101.43 504.16,-99.38 505.15,-106.31\"/>\n<text text-anchor=\"middle\" x=\"493.1\" y=\"-107.8\" font-family=\"Times,serif\" font-size=\"14.00\">b</text>\n</g>\n<!-- 5&#45;&gt;7 -->\n<g id=\"edge12\" class=\"edge\">\n<title>5-&gt;7</title>\n<path fill=\"none\" stroke=\"black\" d=\"M547.34,-88.65C558.78,-80.04 575.37,-67.54 589.21,-57.12\"/>\n<polygon fill=\"black\" stroke=\"black\" points=\"591.52,-59.76 597.4,-50.95 587.31,-54.17 591.52,-59.76\"/>\n<text text-anchor=\"middle\" x=\"572.1\" y=\"-75.8\" font-family=\"Times,serif\" font-size=\"14.00\">ε</text>\n</g>\n<!-- 7&#45;&gt;6 -->\n<g id=\"edge11\" class=\"edge\">\n<title>7-&gt;6</title>\n<path fill=\"none\" stroke=\"black\" d=\"M597.66,-24.71C581.97,-13.75 557.52,0 533.6,0 136.6,0 136.6,0 136.6,0 116.35,0 95.92,-10.7 81.19,-20.74\"/>\n<polygon fill=\"black\" stroke=\"black\" points=\"78.86,-18.1 72.81,-26.8 82.97,-23.77 78.86,-18.1\"/>\n<text text-anchor=\"middle\" x=\"335.1\" y=\"-3.8\" font-family=\"Times,serif\" font-size=\"14.00\">ε</text>\n</g>\n</g>\n</svg>"
          },
          "metadata": {}
        },
        {
          "output_type": "stream",
          "name": "stdout",
          "text": [
            "Visualization saved to regex_2_thompson.png\n"
          ]
        },
        {
          "output_type": "display_data",
          "data": {
            "text/plain": [
              "<IPython.core.display.SVG object>"
            ],
            "image/svg+xml": "<svg xmlns=\"http://www.w3.org/2000/svg\" xmlns:xlink=\"http://www.w3.org/1999/xlink\" width=\"259pt\" height=\"116pt\" viewBox=\"0.00 0.00 258.60 116.00\">\n<g id=\"graph0\" class=\"graph\" transform=\"scale(1 1) rotate(0) translate(4 112)\">\n<title>finite_state_machine</title>\n<polygon fill=\"white\" stroke=\"transparent\" points=\"-4,4 -4,-112 254.6,-112 254.6,4 -4,4\"/>\n<!-- dummy0 -->\n<g id=\"node1\" class=\"node\">\n<title>dummy0</title>\n<ellipse fill=\"black\" stroke=\"black\" cx=\"1.8\" cy=\"-22\" rx=\"1.8\" ry=\"1.8\"/>\n</g>\n<!-- 0 -->\n<g id=\"node2\" class=\"node\">\n<title>0</title>\n<ellipse fill=\"none\" stroke=\"black\" cx=\"62.6\" cy=\"-22\" rx=\"18\" ry=\"18\"/>\n<ellipse fill=\"none\" stroke=\"black\" cx=\"62.6\" cy=\"-22\" rx=\"22\" ry=\"22\"/>\n<text text-anchor=\"middle\" x=\"62.6\" y=\"-18.3\" font-family=\"Times,serif\" font-size=\"14.00\">0</text>\n</g>\n<!-- dummy0&#45;&gt;0 -->\n<g id=\"edge1\" class=\"edge\">\n<title>dummy0-&gt;0</title>\n<path fill=\"none\" stroke=\"black\" d=\"M3.82,-22C7.19,-22 18.44,-22 30.12,-22\"/>\n<polygon fill=\"black\" stroke=\"black\" points=\"30.31,-25.5 40.31,-22 30.31,-18.5 30.31,-25.5\"/>\n</g>\n<!-- 1 -->\n<g id=\"node3\" class=\"node\">\n<title>1</title>\n<ellipse fill=\"none\" stroke=\"black\" cx=\"145.6\" cy=\"-57\" rx=\"18\" ry=\"18\"/>\n<text text-anchor=\"middle\" x=\"145.6\" y=\"-53.3\" font-family=\"Times,serif\" font-size=\"14.00\">1</text>\n</g>\n<!-- 0&#45;&gt;1 -->\n<g id=\"edge2\" class=\"edge\">\n<title>0-&gt;1</title>\n<path fill=\"none\" stroke=\"black\" d=\"M83.21,-30.47C94.11,-35.18 107.79,-41.09 119.47,-46.14\"/>\n<polygon fill=\"black\" stroke=\"black\" points=\"118.13,-49.38 128.7,-50.13 120.91,-42.95 118.13,-49.38\"/>\n<text text-anchor=\"middle\" x=\"106.1\" y=\"-44.8\" font-family=\"Times,serif\" font-size=\"14.00\">a</text>\n</g>\n<!-- 2 -->\n<g id=\"node4\" class=\"node\">\n<title>2</title>\n<ellipse fill=\"none\" stroke=\"black\" cx=\"228.6\" cy=\"-39\" rx=\"18\" ry=\"18\"/>\n<ellipse fill=\"none\" stroke=\"black\" cx=\"228.6\" cy=\"-39\" rx=\"22\" ry=\"22\"/>\n<text text-anchor=\"middle\" x=\"228.6\" y=\"-35.3\" font-family=\"Times,serif\" font-size=\"14.00\">2</text>\n</g>\n<!-- 0&#45;&gt;2 -->\n<g id=\"edge3\" class=\"edge\">\n<title>0-&gt;2</title>\n<path fill=\"none\" stroke=\"black\" d=\"M84.45,-17.55C104.79,-13.91 136.54,-10.09 163.6,-15 175.58,-17.17 188.24,-21.46 199.1,-25.81\"/>\n<polygon fill=\"black\" stroke=\"black\" points=\"197.93,-29.12 208.51,-29.78 200.65,-22.67 197.93,-29.12\"/>\n<text text-anchor=\"middle\" x=\"145.6\" y=\"-18.8\" font-family=\"Times,serif\" font-size=\"14.00\">b</text>\n</g>\n<!-- 1&#45;&gt;1 -->\n<g id=\"edge4\" class=\"edge\">\n<title>1-&gt;1</title>\n<path fill=\"none\" stroke=\"black\" d=\"M138.87,-74.04C137.49,-83.86 139.74,-93 145.6,-93 149.26,-93 151.52,-89.43 152.35,-84.35\"/>\n<polygon fill=\"black\" stroke=\"black\" points=\"155.85,-84.03 152.33,-74.04 148.85,-84.04 155.85,-84.03\"/>\n<text text-anchor=\"middle\" x=\"145.6\" y=\"-96.8\" font-family=\"Times,serif\" font-size=\"14.00\">a</text>\n</g>\n<!-- 1&#45;&gt;2 -->\n<g id=\"edge5\" class=\"edge\">\n<title>1-&gt;2</title>\n<path fill=\"none\" stroke=\"black\" d=\"M163.94,-57.5C171.58,-57.38 180.62,-56.77 188.6,-55 192.06,-54.23 195.61,-53.18 199.09,-51.98\"/>\n<polygon fill=\"black\" stroke=\"black\" points=\"200.51,-55.19 208.58,-48.32 197.99,-48.65 200.51,-55.19\"/>\n<text text-anchor=\"middle\" x=\"185.1\" y=\"-59.8\" font-family=\"Times,serif\" font-size=\"14.00\">b</text>\n</g>\n<!-- 2&#45;&gt;1 -->\n<g id=\"edge6\" class=\"edge\">\n<title>2-&gt;1</title>\n<path fill=\"none\" stroke=\"black\" d=\"M206.69,-34.73C198.72,-33.86 189.62,-33.78 181.6,-36 177.37,-37.17 173.15,-39 169.17,-41.11\"/>\n<polygon fill=\"black\" stroke=\"black\" points=\"167.22,-38.19 160.44,-46.33 170.82,-44.2 167.22,-38.19\"/>\n<text text-anchor=\"middle\" x=\"185.1\" y=\"-39.8\" font-family=\"Times,serif\" font-size=\"14.00\">a</text>\n</g>\n<!-- 2&#45;&gt;2 -->\n<g id=\"edge7\" class=\"edge\">\n<title>2-&gt;2</title>\n<path fill=\"none\" stroke=\"black\" d=\"M220.92,-59.99C219.97,-70.09 222.53,-79 228.6,-79 232.49,-79 234.94,-75.34 235.95,-70.06\"/>\n<polygon fill=\"black\" stroke=\"black\" points=\"239.45,-70.1 236.28,-59.99 232.45,-69.87 239.45,-70.1\"/>\n<text text-anchor=\"middle\" x=\"228.6\" y=\"-82.8\" font-family=\"Times,serif\" font-size=\"14.00\">b</text>\n</g>\n</g>\n</svg>"
          },
          "metadata": {}
        },
        {
          "output_type": "stream",
          "name": "stdout",
          "text": [
            "Visualization saved to regex_2_glushkov.png\n"
          ]
        },
        {
          "output_type": "display_data",
          "data": {
            "text/plain": [
              "<IPython.core.display.SVG object>"
            ],
            "image/svg+xml": "<svg xmlns=\"http://www.w3.org/2000/svg\" xmlns:xlink=\"http://www.w3.org/1999/xlink\" width=\"172pt\" height=\"85pt\" viewBox=\"0.00 0.00 171.60 85.00\">\n<g id=\"graph0\" class=\"graph\" transform=\"scale(1 1) rotate(0) translate(4 81)\">\n<title>finite_state_machine</title>\n<polygon fill=\"white\" stroke=\"transparent\" points=\"-4,4 -4,-81 167.6,-81 167.6,4 -4,4\"/>\n<!-- dummy2 -->\n<g id=\"node1\" class=\"node\">\n<title>dummy2</title>\n<ellipse fill=\"black\" stroke=\"black\" cx=\"1.8\" cy=\"-22\" rx=\"1.8\" ry=\"1.8\"/>\n</g>\n<!-- 2 -->\n<g id=\"node2\" class=\"node\">\n<title>2</title>\n<ellipse fill=\"none\" stroke=\"black\" cx=\"62.6\" cy=\"-22\" rx=\"18\" ry=\"18\"/>\n<ellipse fill=\"none\" stroke=\"black\" cx=\"62.6\" cy=\"-22\" rx=\"22\" ry=\"22\"/>\n<text text-anchor=\"middle\" x=\"62.6\" y=\"-18.3\" font-family=\"Times,serif\" font-size=\"14.00\">2</text>\n</g>\n<!-- dummy2&#45;&gt;2 -->\n<g id=\"edge1\" class=\"edge\">\n<title>dummy2-&gt;2</title>\n<path fill=\"none\" stroke=\"black\" d=\"M3.82,-22C7.19,-22 18.44,-22 30.12,-22\"/>\n<polygon fill=\"black\" stroke=\"black\" points=\"30.31,-25.5 40.31,-22 30.31,-18.5 30.31,-25.5\"/>\n</g>\n<!-- 2&#45;&gt;2 -->\n<g id=\"edge3\" class=\"edge\">\n<title>2-&gt;2</title>\n<path fill=\"none\" stroke=\"black\" d=\"M55.28,-42.99C54.38,-53.09 56.82,-62 62.6,-62 66.3,-62 68.64,-58.34 69.6,-53.06\"/>\n<polygon fill=\"black\" stroke=\"black\" points=\"73.1,-53.1 69.92,-42.99 66.1,-52.87 73.1,-53.1\"/>\n<text text-anchor=\"middle\" x=\"62.6\" y=\"-65.8\" font-family=\"Times,serif\" font-size=\"14.00\">b</text>\n</g>\n<!-- 4 -->\n<g id=\"node3\" class=\"node\">\n<title>4</title>\n<ellipse fill=\"none\" stroke=\"black\" cx=\"145.6\" cy=\"-22\" rx=\"18\" ry=\"18\"/>\n<text text-anchor=\"middle\" x=\"145.6\" y=\"-18.3\" font-family=\"Times,serif\" font-size=\"14.00\">4</text>\n</g>\n<!-- 2&#45;&gt;4 -->\n<g id=\"edge2\" class=\"edge\">\n<title>2-&gt;4</title>\n<path fill=\"none\" stroke=\"black\" d=\"M84.88,-22C94.87,-22 106.88,-22 117.5,-22\"/>\n<polygon fill=\"black\" stroke=\"black\" points=\"117.54,-25.5 127.54,-22 117.54,-18.5 117.54,-25.5\"/>\n<text text-anchor=\"middle\" x=\"106.1\" y=\"-25.8\" font-family=\"Times,serif\" font-size=\"14.00\">a</text>\n</g>\n<!-- 4&#45;&gt;2 -->\n<g id=\"edge5\" class=\"edge\">\n<title>4-&gt;2</title>\n<path fill=\"none\" stroke=\"black\" d=\"M130.29,-12.13C124.2,-8.51 116.84,-4.84 109.6,-3 103.11,-1.35 96.34,-2.44 90.05,-4.76\"/>\n<polygon fill=\"black\" stroke=\"black\" points=\"88.21,-1.76 80.67,-9.2 91.21,-8.08 88.21,-1.76\"/>\n<text text-anchor=\"middle\" x=\"106.1\" y=\"-6.8\" font-family=\"Times,serif\" font-size=\"14.00\">b</text>\n</g>\n<!-- 4&#45;&gt;4 -->\n<g id=\"edge4\" class=\"edge\">\n<title>4-&gt;4</title>\n<path fill=\"none\" stroke=\"black\" d=\"M138.87,-39.04C137.49,-48.86 139.74,-58 145.6,-58 149.26,-58 151.52,-54.43 152.35,-49.35\"/>\n<polygon fill=\"black\" stroke=\"black\" points=\"155.85,-49.03 152.33,-39.04 148.85,-49.04 155.85,-49.03\"/>\n<text text-anchor=\"middle\" x=\"145.6\" y=\"-61.8\" font-family=\"Times,serif\" font-size=\"14.00\">a</text>\n</g>\n</g>\n</svg>"
          },
          "metadata": {}
        },
        {
          "output_type": "stream",
          "name": "stdout",
          "text": [
            "Visualization saved to regex_2_antimirov.png\n",
            "\n",
            "---\n",
            "\n",
            "Generating automata for expression: a(b|c)*d\n",
            "\n",
            "Processing regular expression: a(b|c)*d\n",
            "\n",
            "Thompson NFA:\n",
            "(['(0, (1, 0))', '(0, (1, 1))', '(0, (1, 2))', '(0, (1, 3))', '(0, (1, 4))', '(0, (1, 5))', '(0, (1, 6))', '(0, (1, 7))', '(0, (1, 8))', '(0, (1, 9))', '(1, 0)', '(1, 1)'], ['c', 'b', 'a', 'd'], ['(0, (1, 0))'], ['(1, 1)'], \"[((0, (1, 0)), 'a', (0, (1, 1))), ((0, (1, 4)), 'b', (0, (1, 5))), ((0, (1, 2)), '@epsilon', (0, (1, 4))), ((0, (1, 2)), '@epsilon', (0, (1, 6))), ((0, (1, 5)), '@epsilon', (0, (1, 3))), ((0, (1, 6)), 'c', (0, (1, 7))), ((0, (1, 7)), '@epsilon', (0, (1, 3))), ((0, (1, 8)), '@epsilon', (0, (1, 9))), ((0, (1, 8)), '@epsilon', (0, (1, 2))), ((0, (1, 9)), '@epsilon', (0, (1, 8))), ((0, (1, 9)), '@epsilon', (1, 0)), ((0, (1, 3)), '@epsilon', (0, (1, 9))), ((0, (1, 1)), '@epsilon', (0, (1, 8))), ((1, 0), 'd', (1, 1))]\")\n",
            "\n",
            "Glushkov NFA:\n",
            "(['Initial', 'a', 'b', 'c', 'd'], ['c', 'b', 'a', 'd'], ['Initial'], ['d'], \"[('Initial', 'a', 'a'), ('a', 'b', 'b'), ('a', 'c', 'c'), ('a', 'd', 'd'), ('b', 'b', 'b'), ('b', 'c', 'c'), ('b', 'd', 'd'), ('c', 'b', 'b'), ('c', 'c', 'c'), ('c', 'd', 'd')]\")\n",
            "\n",
            "Antimirov NFA:\n",
            "(['Initial', 'Final', '3'], ['c', 'b', 'a', 'd'], ['Initial'], ['Final'], \"[('Initial', 'a', '3'), ('3', 'b', '3'), ('3', 'c', '3'), ('3', 'd', 'Final')]\")\n"
          ]
        },
        {
          "output_type": "display_data",
          "data": {
            "text/plain": [
              "<IPython.core.display.SVG object>"
            ],
            "image/svg+xml": "<svg xmlns=\"http://www.w3.org/2000/svg\" xmlns:xlink=\"http://www.w3.org/1999/xlink\" width=\"810pt\" height=\"164pt\" viewBox=\"0.00 0.00 809.59 164.00\">\n<g id=\"graph0\" class=\"graph\" transform=\"scale(1 1) rotate(0) translate(4 160)\">\n<title>finite_state_machine</title>\n<polygon fill=\"white\" stroke=\"transparent\" points=\"-4,4 -4,-160 805.59,-160 805.59,4 -4,4\"/>\n<!-- dummy0 -->\n<g id=\"node1\" class=\"node\">\n<title>dummy0</title>\n<ellipse fill=\"black\" stroke=\"black\" cx=\"1.8\" cy=\"-38\" rx=\"1.8\" ry=\"1.8\"/>\n</g>\n<!-- 0 -->\n<g id=\"node2\" class=\"node\">\n<title>0</title>\n<ellipse fill=\"none\" stroke=\"black\" cx=\"58.6\" cy=\"-38\" rx=\"18\" ry=\"18\"/>\n<text text-anchor=\"middle\" x=\"58.6\" y=\"-34.3\" font-family=\"Times,serif\" font-size=\"14.00\">0</text>\n</g>\n<!-- dummy0&#45;&gt;0 -->\n<g id=\"edge1\" class=\"edge\">\n<title>dummy0-&gt;0</title>\n<path fill=\"none\" stroke=\"black\" d=\"M3.75,-38C7.11,-38 18.87,-38 30.55,-38\"/>\n<polygon fill=\"black\" stroke=\"black\" points=\"30.58,-41.5 40.58,-38 30.58,-34.5 30.58,-41.5\"/>\n</g>\n<!-- 1 -->\n<g id=\"node3\" class=\"node\">\n<title>1</title>\n<ellipse fill=\"none\" stroke=\"black\" cx=\"137.6\" cy=\"-38\" rx=\"18\" ry=\"18\"/>\n<text text-anchor=\"middle\" x=\"137.6\" y=\"-34.3\" font-family=\"Times,serif\" font-size=\"14.00\">1</text>\n</g>\n<!-- 0&#45;&gt;1 -->\n<g id=\"edge2\" class=\"edge\">\n<title>0-&gt;1</title>\n<path fill=\"none\" stroke=\"black\" d=\"M76.69,-38C86.26,-38 98.42,-38 109.28,-38\"/>\n<polygon fill=\"black\" stroke=\"black\" points=\"109.56,-41.5 119.56,-38 109.56,-34.5 109.56,-41.5\"/>\n<text text-anchor=\"middle\" x=\"98.1\" y=\"-41.8\" font-family=\"Times,serif\" font-size=\"14.00\">a</text>\n</g>\n<!-- 8 -->\n<g id=\"node10\" class=\"node\">\n<title>8</title>\n<ellipse fill=\"none\" stroke=\"black\" cx=\"216.6\" cy=\"-38\" rx=\"18\" ry=\"18\"/>\n<text text-anchor=\"middle\" x=\"216.6\" y=\"-34.3\" font-family=\"Times,serif\" font-size=\"14.00\">8</text>\n</g>\n<!-- 1&#45;&gt;8 -->\n<g id=\"edge14\" class=\"edge\">\n<title>1-&gt;8</title>\n<path fill=\"none\" stroke=\"black\" d=\"M155.69,-38C165.26,-38 177.42,-38 188.28,-38\"/>\n<polygon fill=\"black\" stroke=\"black\" points=\"188.56,-41.5 198.56,-38 188.56,-34.5 188.56,-41.5\"/>\n<text text-anchor=\"middle\" x=\"177.1\" y=\"-41.8\" font-family=\"Times,serif\" font-size=\"14.00\">ε</text>\n</g>\n<!-- 2 -->\n<g id=\"node4\" class=\"node\">\n<title>2</title>\n<ellipse fill=\"none\" stroke=\"black\" cx=\"295.6\" cy=\"-84\" rx=\"18\" ry=\"18\"/>\n<text text-anchor=\"middle\" x=\"295.6\" y=\"-80.3\" font-family=\"Times,serif\" font-size=\"14.00\">2</text>\n</g>\n<!-- 4 -->\n<g id=\"node6\" class=\"node\">\n<title>4</title>\n<ellipse fill=\"none\" stroke=\"black\" cx=\"374.6\" cy=\"-138\" rx=\"18\" ry=\"18\"/>\n<text text-anchor=\"middle\" x=\"374.6\" y=\"-134.3\" font-family=\"Times,serif\" font-size=\"14.00\">4</text>\n</g>\n<!-- 2&#45;&gt;4 -->\n<g id=\"edge4\" class=\"edge\">\n<title>2-&gt;4</title>\n<path fill=\"none\" stroke=\"black\" d=\"M310.72,-93.9C321.94,-101.77 337.85,-112.93 350.86,-122.05\"/>\n<polygon fill=\"black\" stroke=\"black\" points=\"349.11,-125.1 359.31,-127.98 353.13,-119.37 349.11,-125.1\"/>\n<text text-anchor=\"middle\" x=\"335.1\" y=\"-115.8\" font-family=\"Times,serif\" font-size=\"14.00\">ε</text>\n</g>\n<!-- 6 -->\n<g id=\"node8\" class=\"node\">\n<title>6</title>\n<ellipse fill=\"none\" stroke=\"black\" cx=\"374.6\" cy=\"-84\" rx=\"18\" ry=\"18\"/>\n<text text-anchor=\"middle\" x=\"374.6\" y=\"-80.3\" font-family=\"Times,serif\" font-size=\"14.00\">6</text>\n</g>\n<!-- 2&#45;&gt;6 -->\n<g id=\"edge5\" class=\"edge\">\n<title>2-&gt;6</title>\n<path fill=\"none\" stroke=\"black\" d=\"M313.69,-84C323.26,-84 335.42,-84 346.28,-84\"/>\n<polygon fill=\"black\" stroke=\"black\" points=\"346.56,-87.5 356.56,-84 346.56,-80.5 346.56,-87.5\"/>\n<text text-anchor=\"middle\" x=\"335.1\" y=\"-87.8\" font-family=\"Times,serif\" font-size=\"14.00\">ε</text>\n</g>\n<!-- 3 -->\n<g id=\"node5\" class=\"node\">\n<title>3</title>\n<ellipse fill=\"none\" stroke=\"black\" cx=\"532.6\" cy=\"-84\" rx=\"18\" ry=\"18\"/>\n<text text-anchor=\"middle\" x=\"532.6\" y=\"-80.3\" font-family=\"Times,serif\" font-size=\"14.00\">3</text>\n</g>\n<!-- 9 -->\n<g id=\"node11\" class=\"node\">\n<title>9</title>\n<ellipse fill=\"none\" stroke=\"black\" cx=\"611.6\" cy=\"-38\" rx=\"18\" ry=\"18\"/>\n<text text-anchor=\"middle\" x=\"611.6\" y=\"-34.3\" font-family=\"Times,serif\" font-size=\"14.00\">9</text>\n</g>\n<!-- 3&#45;&gt;9 -->\n<g id=\"edge13\" class=\"edge\">\n<title>3-&gt;9</title>\n<path fill=\"none\" stroke=\"black\" d=\"M548.45,-75.13C559.42,-68.58 574.57,-59.52 587.17,-51.99\"/>\n<polygon fill=\"black\" stroke=\"black\" points=\"589.01,-54.98 595.8,-46.84 585.42,-48.97 589.01,-54.98\"/>\n<text text-anchor=\"middle\" x=\"572.1\" y=\"-65.8\" font-family=\"Times,serif\" font-size=\"14.00\">ε</text>\n</g>\n<!-- 5 -->\n<g id=\"node7\" class=\"node\">\n<title>5</title>\n<ellipse fill=\"none\" stroke=\"black\" cx=\"453.6\" cy=\"-138\" rx=\"18\" ry=\"18\"/>\n<text text-anchor=\"middle\" x=\"453.6\" y=\"-134.3\" font-family=\"Times,serif\" font-size=\"14.00\">5</text>\n</g>\n<!-- 4&#45;&gt;5 -->\n<g id=\"edge3\" class=\"edge\">\n<title>4-&gt;5</title>\n<path fill=\"none\" stroke=\"black\" d=\"M392.69,-138C402.26,-138 414.42,-138 425.28,-138\"/>\n<polygon fill=\"black\" stroke=\"black\" points=\"425.56,-141.5 435.56,-138 425.56,-134.5 425.56,-141.5\"/>\n<text text-anchor=\"middle\" x=\"414.1\" y=\"-141.8\" font-family=\"Times,serif\" font-size=\"14.00\">b</text>\n</g>\n<!-- 5&#45;&gt;3 -->\n<g id=\"edge6\" class=\"edge\">\n<title>5-&gt;3</title>\n<path fill=\"none\" stroke=\"black\" d=\"M468.72,-128.1C479.94,-120.23 495.85,-109.07 508.86,-99.95\"/>\n<polygon fill=\"black\" stroke=\"black\" points=\"511.13,-102.63 517.31,-94.02 507.11,-96.9 511.13,-102.63\"/>\n<text text-anchor=\"middle\" x=\"493.1\" y=\"-115.8\" font-family=\"Times,serif\" font-size=\"14.00\">ε</text>\n</g>\n<!-- 7 -->\n<g id=\"node9\" class=\"node\">\n<title>7</title>\n<ellipse fill=\"none\" stroke=\"black\" cx=\"453.6\" cy=\"-84\" rx=\"18\" ry=\"18\"/>\n<text text-anchor=\"middle\" x=\"453.6\" y=\"-80.3\" font-family=\"Times,serif\" font-size=\"14.00\">7</text>\n</g>\n<!-- 6&#45;&gt;7 -->\n<g id=\"edge7\" class=\"edge\">\n<title>6-&gt;7</title>\n<path fill=\"none\" stroke=\"black\" d=\"M392.69,-84C402.26,-84 414.42,-84 425.28,-84\"/>\n<polygon fill=\"black\" stroke=\"black\" points=\"425.56,-87.5 435.56,-84 425.56,-80.5 425.56,-87.5\"/>\n<text text-anchor=\"middle\" x=\"414.1\" y=\"-87.8\" font-family=\"Times,serif\" font-size=\"14.00\">c</text>\n</g>\n<!-- 7&#45;&gt;3 -->\n<g id=\"edge8\" class=\"edge\">\n<title>7-&gt;3</title>\n<path fill=\"none\" stroke=\"black\" d=\"M471.69,-84C481.26,-84 493.42,-84 504.28,-84\"/>\n<polygon fill=\"black\" stroke=\"black\" points=\"504.56,-87.5 514.56,-84 504.56,-80.5 504.56,-87.5\"/>\n<text text-anchor=\"middle\" x=\"493.1\" y=\"-87.8\" font-family=\"Times,serif\" font-size=\"14.00\">ε</text>\n</g>\n<!-- 8&#45;&gt;2 -->\n<g id=\"edge10\" class=\"edge\">\n<title>8-&gt;2</title>\n<path fill=\"none\" stroke=\"black\" d=\"M232.45,-46.87C243.42,-53.42 258.57,-62.48 271.17,-70.01\"/>\n<polygon fill=\"black\" stroke=\"black\" points=\"269.42,-73.03 279.8,-75.16 273.01,-67.02 269.42,-73.03\"/>\n<text text-anchor=\"middle\" x=\"256.1\" y=\"-65.8\" font-family=\"Times,serif\" font-size=\"14.00\">ε</text>\n</g>\n<!-- 8&#45;&gt;9 -->\n<g id=\"edge9\" class=\"edge\">\n<title>8-&gt;9</title>\n<path fill=\"none\" stroke=\"black\" d=\"M234.73,-38C250.33,-38 274.01,-38 294.6,-38 294.6,-38 294.6,-38 533.6,-38 550.01,-38 568.38,-38 583.06,-38\"/>\n<polygon fill=\"black\" stroke=\"black\" points=\"583.47,-41.5 593.47,-38 583.47,-34.5 583.47,-41.5\"/>\n<text text-anchor=\"middle\" x=\"414.1\" y=\"-41.8\" font-family=\"Times,serif\" font-size=\"14.00\">ε</text>\n</g>\n<!-- 9&#45;&gt;8 -->\n<g id=\"edge11\" class=\"edge\">\n<title>9-&gt;8</title>\n<path fill=\"none\" stroke=\"black\" d=\"M597.39,-26.8C582.77,-15.6 558.05,0 533.6,0 294.6,0 294.6,0 294.6,0 274.35,0 253.92,-10.7 239.19,-20.74\"/>\n<polygon fill=\"black\" stroke=\"black\" points=\"236.86,-18.1 230.81,-26.8 240.97,-23.77 236.86,-18.1\"/>\n<text text-anchor=\"middle\" x=\"414.1\" y=\"-3.8\" font-family=\"Times,serif\" font-size=\"14.00\">ε</text>\n</g>\n<!-- 10 -->\n<g id=\"node12\" class=\"node\">\n<title>10</title>\n<ellipse fill=\"none\" stroke=\"black\" cx=\"692.1\" cy=\"-38\" rx=\"19.5\" ry=\"19.5\"/>\n<text text-anchor=\"middle\" x=\"692.1\" y=\"-34.3\" font-family=\"Times,serif\" font-size=\"14.00\">10</text>\n</g>\n<!-- 9&#45;&gt;10 -->\n<g id=\"edge12\" class=\"edge\">\n<title>9-&gt;10</title>\n<path fill=\"none\" stroke=\"black\" d=\"M629.63,-38C639.2,-38 651.4,-38 662.4,-38\"/>\n<polygon fill=\"black\" stroke=\"black\" points=\"662.45,-41.5 672.45,-38 662.45,-34.5 662.45,-41.5\"/>\n<text text-anchor=\"middle\" x=\"651.1\" y=\"-41.8\" font-family=\"Times,serif\" font-size=\"14.00\">ε</text>\n</g>\n<!-- 11 -->\n<g id=\"node13\" class=\"node\">\n<title>11</title>\n<ellipse fill=\"none\" stroke=\"black\" cx=\"778.09\" cy=\"-38\" rx=\"19.5\" ry=\"19.5\"/>\n<ellipse fill=\"none\" stroke=\"black\" cx=\"778.09\" cy=\"-38\" rx=\"23.5\" ry=\"23.5\"/>\n<text text-anchor=\"middle\" x=\"778.09\" y=\"-34.3\" font-family=\"Times,serif\" font-size=\"14.00\">11</text>\n</g>\n<!-- 10&#45;&gt;11 -->\n<g id=\"edge15\" class=\"edge\">\n<title>10-&gt;11</title>\n<path fill=\"none\" stroke=\"black\" d=\"M711.74,-38C721.26,-38 733.13,-38 744.14,-38\"/>\n<polygon fill=\"black\" stroke=\"black\" points=\"744.32,-41.5 754.32,-38 744.32,-34.5 744.32,-41.5\"/>\n<text text-anchor=\"middle\" x=\"733.1\" y=\"-41.8\" font-family=\"Times,serif\" font-size=\"14.00\">d</text>\n</g>\n</g>\n</svg>"
          },
          "metadata": {}
        },
        {
          "output_type": "stream",
          "name": "stdout",
          "text": [
            "Visualization saved to regex_3_thompson.png\n"
          ]
        },
        {
          "output_type": "display_data",
          "data": {
            "text/plain": [
              "<IPython.core.display.SVG object>"
            ],
            "image/svg+xml": "<svg xmlns=\"http://www.w3.org/2000/svg\" xmlns:xlink=\"http://www.w3.org/1999/xlink\" width=\"409pt\" height=\"138pt\" viewBox=\"0.00 0.00 408.60 138.00\">\n<g id=\"graph0\" class=\"graph\" transform=\"scale(1 1) rotate(0) translate(4 134)\">\n<title>finite_state_machine</title>\n<polygon fill=\"white\" stroke=\"transparent\" points=\"-4,4 -4,-134 404.6,-134 404.6,4 -4,4\"/>\n<!-- dummy0 -->\n<g id=\"node1\" class=\"node\">\n<title>dummy0</title>\n<ellipse fill=\"black\" stroke=\"black\" cx=\"1.8\" cy=\"-18\" rx=\"1.8\" ry=\"1.8\"/>\n</g>\n<!-- 0 -->\n<g id=\"node2\" class=\"node\">\n<title>0</title>\n<ellipse fill=\"none\" stroke=\"black\" cx=\"58.6\" cy=\"-18\" rx=\"18\" ry=\"18\"/>\n<text text-anchor=\"middle\" x=\"58.6\" y=\"-14.3\" font-family=\"Times,serif\" font-size=\"14.00\">0</text>\n</g>\n<!-- dummy0&#45;&gt;0 -->\n<g id=\"edge1\" class=\"edge\">\n<title>dummy0-&gt;0</title>\n<path fill=\"none\" stroke=\"black\" d=\"M3.75,-18C7.11,-18 18.87,-18 30.55,-18\"/>\n<polygon fill=\"black\" stroke=\"black\" points=\"30.58,-21.5 40.58,-18 30.58,-14.5 30.58,-21.5\"/>\n</g>\n<!-- 1 -->\n<g id=\"node3\" class=\"node\">\n<title>1</title>\n<ellipse fill=\"none\" stroke=\"black\" cx=\"137.6\" cy=\"-18\" rx=\"18\" ry=\"18\"/>\n<text text-anchor=\"middle\" x=\"137.6\" y=\"-14.3\" font-family=\"Times,serif\" font-size=\"14.00\">1</text>\n</g>\n<!-- 0&#45;&gt;1 -->\n<g id=\"edge2\" class=\"edge\">\n<title>0-&gt;1</title>\n<path fill=\"none\" stroke=\"black\" d=\"M76.69,-18C86.26,-18 98.42,-18 109.28,-18\"/>\n<polygon fill=\"black\" stroke=\"black\" points=\"109.56,-21.5 119.56,-18 109.56,-14.5 109.56,-21.5\"/>\n<text text-anchor=\"middle\" x=\"98.1\" y=\"-21.8\" font-family=\"Times,serif\" font-size=\"14.00\">a</text>\n</g>\n<!-- 2 -->\n<g id=\"node4\" class=\"node\">\n<title>2</title>\n<ellipse fill=\"none\" stroke=\"black\" cx=\"216.6\" cy=\"-79\" rx=\"18\" ry=\"18\"/>\n<text text-anchor=\"middle\" x=\"216.6\" y=\"-75.3\" font-family=\"Times,serif\" font-size=\"14.00\">2</text>\n</g>\n<!-- 1&#45;&gt;2 -->\n<g id=\"edge3\" class=\"edge\">\n<title>1-&gt;2</title>\n<path fill=\"none\" stroke=\"black\" d=\"M152.37,-28.91C163.86,-38.01 180.46,-51.16 193.77,-61.71\"/>\n<polygon fill=\"black\" stroke=\"black\" points=\"191.94,-64.72 201.95,-68.19 196.29,-59.24 191.94,-64.72\"/>\n<text text-anchor=\"middle\" x=\"177.1\" y=\"-53.8\" font-family=\"Times,serif\" font-size=\"14.00\">b</text>\n</g>\n<!-- 3 -->\n<g id=\"node5\" class=\"node\">\n<title>3</title>\n<ellipse fill=\"none\" stroke=\"black\" cx=\"295.6\" cy=\"-32\" rx=\"18\" ry=\"18\"/>\n<text text-anchor=\"middle\" x=\"295.6\" y=\"-28.3\" font-family=\"Times,serif\" font-size=\"14.00\">3</text>\n</g>\n<!-- 1&#45;&gt;3 -->\n<g id=\"edge4\" class=\"edge\">\n<title>1-&gt;3</title>\n<path fill=\"none\" stroke=\"black\" d=\"M155.59,-19.52C182.55,-21.94 235.37,-26.68 267.57,-29.57\"/>\n<polygon fill=\"black\" stroke=\"black\" points=\"267.36,-33.07 277.63,-30.48 267.98,-26.1 267.36,-33.07\"/>\n<text text-anchor=\"middle\" x=\"216.6\" y=\"-29.8\" font-family=\"Times,serif\" font-size=\"14.00\">c</text>\n</g>\n<!-- 4 -->\n<g id=\"node6\" class=\"node\">\n<title>4</title>\n<ellipse fill=\"none\" stroke=\"black\" cx=\"378.6\" cy=\"-32\" rx=\"18\" ry=\"18\"/>\n<ellipse fill=\"none\" stroke=\"black\" cx=\"378.6\" cy=\"-32\" rx=\"22\" ry=\"22\"/>\n<text text-anchor=\"middle\" x=\"378.6\" y=\"-28.3\" font-family=\"Times,serif\" font-size=\"14.00\">4</text>\n</g>\n<!-- 1&#45;&gt;4 -->\n<g id=\"edge5\" class=\"edge\">\n<title>1-&gt;4</title>\n<path fill=\"none\" stroke=\"black\" d=\"M155.19,-13.79C186.5,-6.51 256.27,6.6 313.6,-5 325.94,-7.5 338.86,-12.45 349.84,-17.44\"/>\n<polygon fill=\"black\" stroke=\"black\" points=\"348.38,-20.62 358.92,-21.77 351.4,-14.3 348.38,-20.62\"/>\n<text text-anchor=\"middle\" x=\"256.1\" y=\"-3.8\" font-family=\"Times,serif\" font-size=\"14.00\">d</text>\n</g>\n<!-- 2&#45;&gt;2 -->\n<g id=\"edge6\" class=\"edge\">\n<title>2-&gt;2</title>\n<path fill=\"none\" stroke=\"black\" d=\"M209.87,-96.04C208.49,-105.86 210.74,-115 216.6,-115 220.26,-115 222.52,-111.43 223.35,-106.35\"/>\n<polygon fill=\"black\" stroke=\"black\" points=\"226.85,-106.03 223.33,-96.04 219.85,-106.04 226.85,-106.03\"/>\n<text text-anchor=\"middle\" x=\"216.6\" y=\"-118.8\" font-family=\"Times,serif\" font-size=\"14.00\">b</text>\n</g>\n<!-- 2&#45;&gt;3 -->\n<g id=\"edge7\" class=\"edge\">\n<title>2-&gt;3</title>\n<path fill=\"none\" stroke=\"black\" d=\"M230.75,-67.79C237.12,-62.64 245.01,-56.66 252.6,-52 257.89,-48.75 263.79,-45.65 269.46,-42.9\"/>\n<polygon fill=\"black\" stroke=\"black\" points=\"271.03,-46.03 278.63,-38.64 268.08,-39.68 271.03,-46.03\"/>\n<text text-anchor=\"middle\" x=\"256.1\" y=\"-55.8\" font-family=\"Times,serif\" font-size=\"14.00\">c</text>\n</g>\n<!-- 2&#45;&gt;4 -->\n<g id=\"edge8\" class=\"edge\">\n<title>2-&gt;4</title>\n<path fill=\"none\" stroke=\"black\" d=\"M233.48,-85.85C253.01,-93.22 286.86,-102.58 313.6,-92 331.43,-84.95 347.2,-70.33 358.62,-57.28\"/>\n<polygon fill=\"black\" stroke=\"black\" points=\"361.44,-59.37 365.15,-49.45 356.06,-54.89 361.44,-59.37\"/>\n<text text-anchor=\"middle\" x=\"295.6\" y=\"-99.8\" font-family=\"Times,serif\" font-size=\"14.00\">d</text>\n</g>\n<!-- 3&#45;&gt;2 -->\n<g id=\"edge9\" class=\"edge\">\n<title>3-&gt;2</title>\n<path fill=\"none\" stroke=\"black\" d=\"M283.61,-46.01C277.28,-53.22 268.78,-61.6 259.6,-67 254.98,-69.72 249.71,-71.85 244.5,-73.51\"/>\n<polygon fill=\"black\" stroke=\"black\" points=\"243.48,-70.16 234.74,-76.16 245.31,-76.92 243.48,-70.16\"/>\n<text text-anchor=\"middle\" x=\"256.1\" y=\"-73.8\" font-family=\"Times,serif\" font-size=\"14.00\">b</text>\n</g>\n<!-- 3&#45;&gt;3 -->\n<g id=\"edge10\" class=\"edge\">\n<title>3-&gt;3</title>\n<path fill=\"none\" stroke=\"black\" d=\"M288.87,-49.04C287.49,-58.86 289.74,-68 295.6,-68 299.26,-68 301.52,-64.43 302.35,-59.35\"/>\n<polygon fill=\"black\" stroke=\"black\" points=\"305.85,-59.03 302.33,-49.04 298.85,-59.04 305.85,-59.03\"/>\n<text text-anchor=\"middle\" x=\"295.6\" y=\"-71.8\" font-family=\"Times,serif\" font-size=\"14.00\">c</text>\n</g>\n<!-- 3&#45;&gt;4 -->\n<g id=\"edge11\" class=\"edge\">\n<title>3-&gt;4</title>\n<path fill=\"none\" stroke=\"black\" d=\"M313.78,-32C323.21,-32 335.2,-32 346.24,-32\"/>\n<polygon fill=\"black\" stroke=\"black\" points=\"346.41,-35.5 356.41,-32 346.41,-28.5 346.41,-35.5\"/>\n<text text-anchor=\"middle\" x=\"335.1\" y=\"-35.8\" font-family=\"Times,serif\" font-size=\"14.00\">d</text>\n</g>\n</g>\n</svg>"
          },
          "metadata": {}
        },
        {
          "output_type": "stream",
          "name": "stdout",
          "text": [
            "Visualization saved to regex_3_glushkov.png\n"
          ]
        },
        {
          "output_type": "display_data",
          "data": {
            "text/plain": [
              "<IPython.core.display.SVG object>"
            ],
            "image/svg+xml": "<svg xmlns=\"http://www.w3.org/2000/svg\" xmlns:xlink=\"http://www.w3.org/1999/xlink\" width=\"251pt\" height=\"81pt\" viewBox=\"0.00 0.00 250.60 81.00\">\n<g id=\"graph0\" class=\"graph\" transform=\"scale(1 1) rotate(0) translate(4 77)\">\n<title>finite_state_machine</title>\n<polygon fill=\"white\" stroke=\"transparent\" points=\"-4,4 -4,-77 246.6,-77 246.6,4 -4,4\"/>\n<!-- dummy0 -->\n<g id=\"node1\" class=\"node\">\n<title>dummy0</title>\n<ellipse fill=\"black\" stroke=\"black\" cx=\"1.8\" cy=\"-22\" rx=\"1.8\" ry=\"1.8\"/>\n</g>\n<!-- 0 -->\n<g id=\"node2\" class=\"node\">\n<title>0</title>\n<ellipse fill=\"none\" stroke=\"black\" cx=\"58.6\" cy=\"-22\" rx=\"18\" ry=\"18\"/>\n<text text-anchor=\"middle\" x=\"58.6\" y=\"-18.3\" font-family=\"Times,serif\" font-size=\"14.00\">0</text>\n</g>\n<!-- dummy0&#45;&gt;0 -->\n<g id=\"edge1\" class=\"edge\">\n<title>dummy0-&gt;0</title>\n<path fill=\"none\" stroke=\"black\" d=\"M3.75,-22C7.11,-22 18.87,-22 30.55,-22\"/>\n<polygon fill=\"black\" stroke=\"black\" points=\"30.58,-25.5 40.58,-22 30.58,-18.5 30.58,-25.5\"/>\n</g>\n<!-- 2 -->\n<g id=\"node4\" class=\"node\">\n<title>2</title>\n<ellipse fill=\"none\" stroke=\"black\" cx=\"137.6\" cy=\"-22\" rx=\"18\" ry=\"18\"/>\n<text text-anchor=\"middle\" x=\"137.6\" y=\"-18.3\" font-family=\"Times,serif\" font-size=\"14.00\">2</text>\n</g>\n<!-- 0&#45;&gt;2 -->\n<g id=\"edge2\" class=\"edge\">\n<title>0-&gt;2</title>\n<path fill=\"none\" stroke=\"black\" d=\"M76.69,-22C86.26,-22 98.42,-22 109.28,-22\"/>\n<polygon fill=\"black\" stroke=\"black\" points=\"109.56,-25.5 119.56,-22 109.56,-18.5 109.56,-25.5\"/>\n<text text-anchor=\"middle\" x=\"98.1\" y=\"-25.8\" font-family=\"Times,serif\" font-size=\"14.00\">a</text>\n</g>\n<!-- 1 -->\n<g id=\"node3\" class=\"node\">\n<title>1</title>\n<ellipse fill=\"none\" stroke=\"black\" cx=\"220.6\" cy=\"-22\" rx=\"18\" ry=\"18\"/>\n<ellipse fill=\"none\" stroke=\"black\" cx=\"220.6\" cy=\"-22\" rx=\"22\" ry=\"22\"/>\n<text text-anchor=\"middle\" x=\"220.6\" y=\"-18.3\" font-family=\"Times,serif\" font-size=\"14.00\">1</text>\n</g>\n<!-- 2&#45;&gt;1 -->\n<g id=\"edge4\" class=\"edge\">\n<title>2-&gt;1</title>\n<path fill=\"none\" stroke=\"black\" d=\"M155.78,-22C165.21,-22 177.2,-22 188.24,-22\"/>\n<polygon fill=\"black\" stroke=\"black\" points=\"188.41,-25.5 198.41,-22 188.41,-18.5 188.41,-25.5\"/>\n<text text-anchor=\"middle\" x=\"177.1\" y=\"-25.8\" font-family=\"Times,serif\" font-size=\"14.00\">d</text>\n</g>\n<!-- 2&#45;&gt;2 -->\n<g id=\"edge3\" class=\"edge\">\n<title>2-&gt;2</title>\n<path fill=\"none\" stroke=\"black\" d=\"M130.87,-39.04C129.49,-48.86 131.74,-58 137.6,-58 141.26,-58 143.52,-54.43 144.35,-49.35\"/>\n<polygon fill=\"black\" stroke=\"black\" points=\"147.85,-49.03 144.33,-39.04 140.85,-49.04 147.85,-49.03\"/>\n<text text-anchor=\"middle\" x=\"137.6\" y=\"-61.8\" font-family=\"Times,serif\" font-size=\"14.00\">b, c</text>\n</g>\n</g>\n</svg>"
          },
          "metadata": {}
        },
        {
          "output_type": "stream",
          "name": "stdout",
          "text": [
            "Visualization saved to regex_3_antimirov.png\n",
            "\n",
            "---\n",
            "\n"
          ]
        }
      ],
      "source": [
        "# List of regular expressions\n",
        "regex_list = [\"(a|b)*abb\", \"(a*b)*\", \"a(b|c)*d\"]\n",
        "\n",
        "# Process each regular expression\n",
        "for i, regex in enumerate(regex_list, start=1):\n",
        "    print(f\"Generating automata for expression: {regex}\")\n",
        "\n",
        "    # Generate automata\n",
        "    afn_thompson, afn_glushkov, afn_antimirov = generate_afns(regex)\n",
        "\n",
        "    # Visualize and save images\n",
        "    if afn_thompson:\n",
        "        visualize_automaton(afn_thompson, f\"regex_{i}_thompson.png\")\n",
        "    if afn_glushkov:\n",
        "        visualize_automaton(afn_glushkov, f\"regex_{i}_glushkov.png\")\n",
        "    if afn_antimirov:\n",
        "        visualize_automaton(afn_antimirov, f\"regex_{i}_antimirov.png\")\n",
        "\n",
        "    print(\"\\n---\\n\")"
      ],
      "id": "W58HNG5wDBoz"
    }
  ],
  "metadata": {
    "kernelspec": {
      "display_name": "Python 3",
      "language": "python",
      "name": "python3"
    },
    "language_info": {
      "name": "python",
      "version": "3.x"
    },
    "colab": {
      "provenance": []
    }
  },
  "nbformat": 4,
  "nbformat_minor": 5
}